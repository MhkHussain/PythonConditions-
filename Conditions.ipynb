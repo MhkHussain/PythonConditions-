{
 "cells": [
  {
   "cell_type": "markdown",
   "id": "10864f5c",
   "metadata": {},
   "source": [
    "# Operators "
   ]
  },
  {
   "cell_type": "code",
   "execution_count": 8,
   "id": "557d2d77",
   "metadata": {},
   "outputs": [
    {
     "name": "stdout",
     "output_type": "stream",
     "text": [
      "True\n",
      "False\n",
      "True\n"
     ]
    }
   ],
   "source": [
    "x=2  #assignment operator\n",
    "print(x==2)   #double equals operator\n",
    "print(x==3)\n",
    "print(x!=6) #not equals to"
   ]
  },
  {
   "cell_type": "markdown",
   "id": "51dbf9e2",
   "metadata": {},
   "source": [
    "# AND OR"
   ]
  },
  {
   "cell_type": "code",
   "execution_count": 7,
   "id": "b1d31205",
   "metadata": {},
   "outputs": [
    {
     "name": "stdout",
     "output_type": "stream",
     "text": [
      "Your name is Hassan Raza.\n",
      "Your age is 7\n"
     ]
    }
   ],
   "source": [
    "name='Hassan'\n",
    "age= 7\n",
    "if name == 'Hassan' and age==7:\n",
    "    print(\"Your name is Hassan Raza.\")\n",
    "    \n",
    "if name=='Mehak' and age== 20:\n",
    "    print(\"Your age is 20\")\n",
    "    \n",
    "if name=='Mehak' or age== 7:\n",
    "    print(\"Your age is 7\")\n",
    "    \n",
    "if name=='Mehak' or age== 20:\n",
    "    print(\"Your name is Mehak\")"
   ]
  },
  {
   "cell_type": "markdown",
   "id": "d072702a",
   "metadata": {},
   "source": [
    "# in operator"
   ]
  },
  {
   "cell_type": "code",
   "execution_count": 9,
   "id": "573e44da",
   "metadata": {},
   "outputs": [
    {
     "name": "stdout",
     "output_type": "stream",
     "text": [
      "Your name is in the list.\n"
     ]
    }
   ],
   "source": [
    "name =\"Mehak\"\n",
    "if name in ['Mehak', 'Ali']:\n",
    "    print(\"Your name is in the list.\")"
   ]
  },
  {
   "cell_type": "markdown",
   "id": "ec775207",
   "metadata": {},
   "source": [
    "# if elif  else"
   ]
  },
  {
   "cell_type": "code",
   "execution_count": 10,
   "id": "d15a3c37",
   "metadata": {},
   "outputs": [
    {
     "name": "stdout",
     "output_type": "stream",
     "text": [
      "Your age is 35\n"
     ]
    }
   ],
   "source": [
    "x = 35\n",
    "if x == 35:\n",
    "    print(\"Your age is 35\")\n",
    "else:\n",
    "    print(\"Your age is not 35\")"
   ]
  },
  {
   "cell_type": "code",
   "execution_count": 4,
   "id": "51eba14c",
   "metadata": {},
   "outputs": [
    {
     "name": "stdout",
     "output_type": "stream",
     "text": [
      "Enter your age: 50\n",
      "You are 50+, you cannot ride.\n"
     ]
    }
   ],
   "source": [
    "age= int(input(\"Enter your age: \"))\n",
    "if age < 18:\n",
    "    print(\"You can't ride.\")\n",
    "elif (age>= 18) and (age < 50):\n",
    "    print(\"You can ride\")\n",
    "else:\n",
    "    print(\"You are 50+, you cannot ride.\")"
   ]
  }
 ],
 "metadata": {
  "kernelspec": {
   "display_name": "Python 3 (ipykernel)",
   "language": "python",
   "name": "python3"
  },
  "language_info": {
   "codemirror_mode": {
    "name": "ipython",
    "version": 3
   },
   "file_extension": ".py",
   "mimetype": "text/x-python",
   "name": "python",
   "nbconvert_exporter": "python",
   "pygments_lexer": "ipython3",
   "version": "3.8.9"
  }
 },
 "nbformat": 4,
 "nbformat_minor": 5
}
